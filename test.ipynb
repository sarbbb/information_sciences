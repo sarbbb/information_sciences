{
  "nbformat": 4,
  "nbformat_minor": 0,
  "metadata": {
    "colab": {
      "provenance": [],
      "authorship_tag": "ABX9TyNpZEfaLXPDQYsVMoj0w40z",
      "include_colab_link": true
    },
    "kernelspec": {
      "name": "python3",
      "display_name": "Python 3"
    },
    "language_info": {
      "name": "python"
    }
  },
  "cells": [
    {
      "cell_type": "markdown",
      "metadata": {
        "id": "view-in-github",
        "colab_type": "text"
      },
      "source": [
        "<a href=\"https://colab.research.google.com/github/sarbbb/information_sciences/blob/main/test.ipynb\" target=\"_parent\"><img src=\"https://colab.research.google.com/assets/colab-badge.svg\" alt=\"Open In Colab\"/></a>"
      ]
    },
    {
      "cell_type": "code",
      "execution_count": 37,
      "metadata": {
        "id": "W5Hqa9SrGz-T"
      },
      "outputs": [],
      "source": [
        "from sklearn.neural_network import MLPClassifier\n",
        "from sklearn.model_selection import train_test_split\n",
        "from sklearn import metrics\n",
        "import pandas as pd"
      ]
    },
    {
      "cell_type": "code",
      "source": [
        "data = pd.read_csv(\"sample_data/iris.csv\")\n",
        "data.sample(n=2)"
      ],
      "metadata": {
        "colab": {
          "base_uri": "https://localhost:8080/",
          "height": 112
        },
        "id": "gueJTDBzHDur",
        "outputId": "e79a9fad-1cb7-48dd-83a1-7ad513b337b2"
      },
      "execution_count": 38,
      "outputs": [
        {
          "output_type": "execute_result",
          "data": {
            "text/plain": [
              "     sepal.length  sepal.width  petal.length  petal.width    variety\n",
              "102           7.1          3.0           5.9          2.1  Virginica\n",
              "41            4.5          2.3           1.3          0.3     Setosa"
            ],
            "text/html": [
              "\n",
              "  <div id=\"df-09dcf297-c313-4802-af02-12fb78fc3c80\">\n",
              "    <div class=\"colab-df-container\">\n",
              "      <div>\n",
              "<style scoped>\n",
              "    .dataframe tbody tr th:only-of-type {\n",
              "        vertical-align: middle;\n",
              "    }\n",
              "\n",
              "    .dataframe tbody tr th {\n",
              "        vertical-align: top;\n",
              "    }\n",
              "\n",
              "    .dataframe thead th {\n",
              "        text-align: right;\n",
              "    }\n",
              "</style>\n",
              "<table border=\"1\" class=\"dataframe\">\n",
              "  <thead>\n",
              "    <tr style=\"text-align: right;\">\n",
              "      <th></th>\n",
              "      <th>sepal.length</th>\n",
              "      <th>sepal.width</th>\n",
              "      <th>petal.length</th>\n",
              "      <th>petal.width</th>\n",
              "      <th>variety</th>\n",
              "    </tr>\n",
              "  </thead>\n",
              "  <tbody>\n",
              "    <tr>\n",
              "      <th>102</th>\n",
              "      <td>7.1</td>\n",
              "      <td>3.0</td>\n",
              "      <td>5.9</td>\n",
              "      <td>2.1</td>\n",
              "      <td>Virginica</td>\n",
              "    </tr>\n",
              "    <tr>\n",
              "      <th>41</th>\n",
              "      <td>4.5</td>\n",
              "      <td>2.3</td>\n",
              "      <td>1.3</td>\n",
              "      <td>0.3</td>\n",
              "      <td>Setosa</td>\n",
              "    </tr>\n",
              "  </tbody>\n",
              "</table>\n",
              "</div>\n",
              "      <button class=\"colab-df-convert\" onclick=\"convertToInteractive('df-09dcf297-c313-4802-af02-12fb78fc3c80')\"\n",
              "              title=\"Convert this dataframe to an interactive table.\"\n",
              "              style=\"display:none;\">\n",
              "        \n",
              "  <svg xmlns=\"http://www.w3.org/2000/svg\" height=\"24px\"viewBox=\"0 0 24 24\"\n",
              "       width=\"24px\">\n",
              "    <path d=\"M0 0h24v24H0V0z\" fill=\"none\"/>\n",
              "    <path d=\"M18.56 5.44l.94 2.06.94-2.06 2.06-.94-2.06-.94-.94-2.06-.94 2.06-2.06.94zm-11 1L8.5 8.5l.94-2.06 2.06-.94-2.06-.94L8.5 2.5l-.94 2.06-2.06.94zm10 10l.94 2.06.94-2.06 2.06-.94-2.06-.94-.94-2.06-.94 2.06-2.06.94z\"/><path d=\"M17.41 7.96l-1.37-1.37c-.4-.4-.92-.59-1.43-.59-.52 0-1.04.2-1.43.59L10.3 9.45l-7.72 7.72c-.78.78-.78 2.05 0 2.83L4 21.41c.39.39.9.59 1.41.59.51 0 1.02-.2 1.41-.59l7.78-7.78 2.81-2.81c.8-.78.8-2.07 0-2.86zM5.41 20L4 18.59l7.72-7.72 1.47 1.35L5.41 20z\"/>\n",
              "  </svg>\n",
              "      </button>\n",
              "      \n",
              "  <style>\n",
              "    .colab-df-container {\n",
              "      display:flex;\n",
              "      flex-wrap:wrap;\n",
              "      gap: 12px;\n",
              "    }\n",
              "\n",
              "    .colab-df-convert {\n",
              "      background-color: #E8F0FE;\n",
              "      border: none;\n",
              "      border-radius: 50%;\n",
              "      cursor: pointer;\n",
              "      display: none;\n",
              "      fill: #1967D2;\n",
              "      height: 32px;\n",
              "      padding: 0 0 0 0;\n",
              "      width: 32px;\n",
              "    }\n",
              "\n",
              "    .colab-df-convert:hover {\n",
              "      background-color: #E2EBFA;\n",
              "      box-shadow: 0px 1px 2px rgba(60, 64, 67, 0.3), 0px 1px 3px 1px rgba(60, 64, 67, 0.15);\n",
              "      fill: #174EA6;\n",
              "    }\n",
              "\n",
              "    [theme=dark] .colab-df-convert {\n",
              "      background-color: #3B4455;\n",
              "      fill: #D2E3FC;\n",
              "    }\n",
              "\n",
              "    [theme=dark] .colab-df-convert:hover {\n",
              "      background-color: #434B5C;\n",
              "      box-shadow: 0px 1px 3px 1px rgba(0, 0, 0, 0.15);\n",
              "      filter: drop-shadow(0px 1px 2px rgba(0, 0, 0, 0.3));\n",
              "      fill: #FFFFFF;\n",
              "    }\n",
              "  </style>\n",
              "\n",
              "      <script>\n",
              "        const buttonEl =\n",
              "          document.querySelector('#df-09dcf297-c313-4802-af02-12fb78fc3c80 button.colab-df-convert');\n",
              "        buttonEl.style.display =\n",
              "          google.colab.kernel.accessAllowed ? 'block' : 'none';\n",
              "\n",
              "        async function convertToInteractive(key) {\n",
              "          const element = document.querySelector('#df-09dcf297-c313-4802-af02-12fb78fc3c80');\n",
              "          const dataTable =\n",
              "            await google.colab.kernel.invokeFunction('convertToInteractive',\n",
              "                                                     [key], {});\n",
              "          if (!dataTable) return;\n",
              "\n",
              "          const docLinkHtml = 'Like what you see? Visit the ' +\n",
              "            '<a target=\"_blank\" href=https://colab.research.google.com/notebooks/data_table.ipynb>data table notebook</a>'\n",
              "            + ' to learn more about interactive tables.';\n",
              "          element.innerHTML = '';\n",
              "          dataTable['output_type'] = 'display_data';\n",
              "          await google.colab.output.renderOutput(dataTable, element);\n",
              "          const docLink = document.createElement('div');\n",
              "          docLink.innerHTML = docLinkHtml;\n",
              "          element.appendChild(docLink);\n",
              "        }\n",
              "      </script>\n",
              "    </div>\n",
              "  </div>\n",
              "  "
            ]
          },
          "metadata": {},
          "execution_count": 38
        }
      ]
    },
    {
      "cell_type": "code",
      "source": [
        "df_norm = data[['sepal.length', 'sepal.width', 'petal.length', 'petal.width']].apply(lambda x: (x - x.min()) / (x.max() - x.min()))\n",
        "df_norm.sample(n=2)"
      ],
      "metadata": {
        "colab": {
          "base_uri": "https://localhost:8080/",
          "height": 112
        },
        "id": "2hn7bY0pHaI-",
        "outputId": "f9866480-621e-4289-e853-4c3d08562bf4"
      },
      "execution_count": 39,
      "outputs": [
        {
          "output_type": "execute_result",
          "data": {
            "text/plain": [
              "    sepal.length  sepal.width  petal.length  petal.width\n",
              "80      0.333333     0.166667      0.474576     0.416667\n",
              "11      0.138889     0.583333      0.101695     0.041667"
            ],
            "text/html": [
              "\n",
              "  <div id=\"df-fdade092-25de-4072-b984-d5cb4d5740af\">\n",
              "    <div class=\"colab-df-container\">\n",
              "      <div>\n",
              "<style scoped>\n",
              "    .dataframe tbody tr th:only-of-type {\n",
              "        vertical-align: middle;\n",
              "    }\n",
              "\n",
              "    .dataframe tbody tr th {\n",
              "        vertical-align: top;\n",
              "    }\n",
              "\n",
              "    .dataframe thead th {\n",
              "        text-align: right;\n",
              "    }\n",
              "</style>\n",
              "<table border=\"1\" class=\"dataframe\">\n",
              "  <thead>\n",
              "    <tr style=\"text-align: right;\">\n",
              "      <th></th>\n",
              "      <th>sepal.length</th>\n",
              "      <th>sepal.width</th>\n",
              "      <th>petal.length</th>\n",
              "      <th>petal.width</th>\n",
              "    </tr>\n",
              "  </thead>\n",
              "  <tbody>\n",
              "    <tr>\n",
              "      <th>80</th>\n",
              "      <td>0.333333</td>\n",
              "      <td>0.166667</td>\n",
              "      <td>0.474576</td>\n",
              "      <td>0.416667</td>\n",
              "    </tr>\n",
              "    <tr>\n",
              "      <th>11</th>\n",
              "      <td>0.138889</td>\n",
              "      <td>0.583333</td>\n",
              "      <td>0.101695</td>\n",
              "      <td>0.041667</td>\n",
              "    </tr>\n",
              "  </tbody>\n",
              "</table>\n",
              "</div>\n",
              "      <button class=\"colab-df-convert\" onclick=\"convertToInteractive('df-fdade092-25de-4072-b984-d5cb4d5740af')\"\n",
              "              title=\"Convert this dataframe to an interactive table.\"\n",
              "              style=\"display:none;\">\n",
              "        \n",
              "  <svg xmlns=\"http://www.w3.org/2000/svg\" height=\"24px\"viewBox=\"0 0 24 24\"\n",
              "       width=\"24px\">\n",
              "    <path d=\"M0 0h24v24H0V0z\" fill=\"none\"/>\n",
              "    <path d=\"M18.56 5.44l.94 2.06.94-2.06 2.06-.94-2.06-.94-.94-2.06-.94 2.06-2.06.94zm-11 1L8.5 8.5l.94-2.06 2.06-.94-2.06-.94L8.5 2.5l-.94 2.06-2.06.94zm10 10l.94 2.06.94-2.06 2.06-.94-2.06-.94-.94-2.06-.94 2.06-2.06.94z\"/><path d=\"M17.41 7.96l-1.37-1.37c-.4-.4-.92-.59-1.43-.59-.52 0-1.04.2-1.43.59L10.3 9.45l-7.72 7.72c-.78.78-.78 2.05 0 2.83L4 21.41c.39.39.9.59 1.41.59.51 0 1.02-.2 1.41-.59l7.78-7.78 2.81-2.81c.8-.78.8-2.07 0-2.86zM5.41 20L4 18.59l7.72-7.72 1.47 1.35L5.41 20z\"/>\n",
              "  </svg>\n",
              "      </button>\n",
              "      \n",
              "  <style>\n",
              "    .colab-df-container {\n",
              "      display:flex;\n",
              "      flex-wrap:wrap;\n",
              "      gap: 12px;\n",
              "    }\n",
              "\n",
              "    .colab-df-convert {\n",
              "      background-color: #E8F0FE;\n",
              "      border: none;\n",
              "      border-radius: 50%;\n",
              "      cursor: pointer;\n",
              "      display: none;\n",
              "      fill: #1967D2;\n",
              "      height: 32px;\n",
              "      padding: 0 0 0 0;\n",
              "      width: 32px;\n",
              "    }\n",
              "\n",
              "    .colab-df-convert:hover {\n",
              "      background-color: #E2EBFA;\n",
              "      box-shadow: 0px 1px 2px rgba(60, 64, 67, 0.3), 0px 1px 3px 1px rgba(60, 64, 67, 0.15);\n",
              "      fill: #174EA6;\n",
              "    }\n",
              "\n",
              "    [theme=dark] .colab-df-convert {\n",
              "      background-color: #3B4455;\n",
              "      fill: #D2E3FC;\n",
              "    }\n",
              "\n",
              "    [theme=dark] .colab-df-convert:hover {\n",
              "      background-color: #434B5C;\n",
              "      box-shadow: 0px 1px 3px 1px rgba(0, 0, 0, 0.15);\n",
              "      filter: drop-shadow(0px 1px 2px rgba(0, 0, 0, 0.3));\n",
              "      fill: #FFFFFF;\n",
              "    }\n",
              "  </style>\n",
              "\n",
              "      <script>\n",
              "        const buttonEl =\n",
              "          document.querySelector('#df-fdade092-25de-4072-b984-d5cb4d5740af button.colab-df-convert');\n",
              "        buttonEl.style.display =\n",
              "          google.colab.kernel.accessAllowed ? 'block' : 'none';\n",
              "\n",
              "        async function convertToInteractive(key) {\n",
              "          const element = document.querySelector('#df-fdade092-25de-4072-b984-d5cb4d5740af');\n",
              "          const dataTable =\n",
              "            await google.colab.kernel.invokeFunction('convertToInteractive',\n",
              "                                                     [key], {});\n",
              "          if (!dataTable) return;\n",
              "\n",
              "          const docLinkHtml = 'Like what you see? Visit the ' +\n",
              "            '<a target=\"_blank\" href=https://colab.research.google.com/notebooks/data_table.ipynb>data table notebook</a>'\n",
              "            + ' to learn more about interactive tables.';\n",
              "          element.innerHTML = '';\n",
              "          dataTable['output_type'] = 'display_data';\n",
              "          await google.colab.output.renderOutput(dataTable, element);\n",
              "          const docLink = document.createElement('div');\n",
              "          docLink.innerHTML = docLinkHtml;\n",
              "          element.appendChild(docLink);\n",
              "        }\n",
              "      </script>\n",
              "    </div>\n",
              "  </div>\n",
              "  "
            ]
          },
          "metadata": {},
          "execution_count": 39
        }
      ]
    },
    {
      "cell_type": "code",
      "source": [
        "target = data[['variety']].replace(['Setosa','Versicolor','Virginica'],[0,1,2])\n",
        "target.sample(n=5)"
      ],
      "metadata": {
        "colab": {
          "base_uri": "https://localhost:8080/",
          "height": 206
        },
        "id": "HdHs_550Hg1p",
        "outputId": "79cb5ab3-8cd1-4fa1-a95e-54dd50eca760"
      },
      "execution_count": 40,
      "outputs": [
        {
          "output_type": "execute_result",
          "data": {
            "text/plain": [
              "    variety\n",
              "78        1\n",
              "9         0\n",
              "10        0\n",
              "4         0\n",
              "15        0"
            ],
            "text/html": [
              "\n",
              "  <div id=\"df-23963c8e-656e-4431-a94e-8e054f5dfae5\">\n",
              "    <div class=\"colab-df-container\">\n",
              "      <div>\n",
              "<style scoped>\n",
              "    .dataframe tbody tr th:only-of-type {\n",
              "        vertical-align: middle;\n",
              "    }\n",
              "\n",
              "    .dataframe tbody tr th {\n",
              "        vertical-align: top;\n",
              "    }\n",
              "\n",
              "    .dataframe thead th {\n",
              "        text-align: right;\n",
              "    }\n",
              "</style>\n",
              "<table border=\"1\" class=\"dataframe\">\n",
              "  <thead>\n",
              "    <tr style=\"text-align: right;\">\n",
              "      <th></th>\n",
              "      <th>variety</th>\n",
              "    </tr>\n",
              "  </thead>\n",
              "  <tbody>\n",
              "    <tr>\n",
              "      <th>78</th>\n",
              "      <td>1</td>\n",
              "    </tr>\n",
              "    <tr>\n",
              "      <th>9</th>\n",
              "      <td>0</td>\n",
              "    </tr>\n",
              "    <tr>\n",
              "      <th>10</th>\n",
              "      <td>0</td>\n",
              "    </tr>\n",
              "    <tr>\n",
              "      <th>4</th>\n",
              "      <td>0</td>\n",
              "    </tr>\n",
              "    <tr>\n",
              "      <th>15</th>\n",
              "      <td>0</td>\n",
              "    </tr>\n",
              "  </tbody>\n",
              "</table>\n",
              "</div>\n",
              "      <button class=\"colab-df-convert\" onclick=\"convertToInteractive('df-23963c8e-656e-4431-a94e-8e054f5dfae5')\"\n",
              "              title=\"Convert this dataframe to an interactive table.\"\n",
              "              style=\"display:none;\">\n",
              "        \n",
              "  <svg xmlns=\"http://www.w3.org/2000/svg\" height=\"24px\"viewBox=\"0 0 24 24\"\n",
              "       width=\"24px\">\n",
              "    <path d=\"M0 0h24v24H0V0z\" fill=\"none\"/>\n",
              "    <path d=\"M18.56 5.44l.94 2.06.94-2.06 2.06-.94-2.06-.94-.94-2.06-.94 2.06-2.06.94zm-11 1L8.5 8.5l.94-2.06 2.06-.94-2.06-.94L8.5 2.5l-.94 2.06-2.06.94zm10 10l.94 2.06.94-2.06 2.06-.94-2.06-.94-.94-2.06-.94 2.06-2.06.94z\"/><path d=\"M17.41 7.96l-1.37-1.37c-.4-.4-.92-.59-1.43-.59-.52 0-1.04.2-1.43.59L10.3 9.45l-7.72 7.72c-.78.78-.78 2.05 0 2.83L4 21.41c.39.39.9.59 1.41.59.51 0 1.02-.2 1.41-.59l7.78-7.78 2.81-2.81c.8-.78.8-2.07 0-2.86zM5.41 20L4 18.59l7.72-7.72 1.47 1.35L5.41 20z\"/>\n",
              "  </svg>\n",
              "      </button>\n",
              "      \n",
              "  <style>\n",
              "    .colab-df-container {\n",
              "      display:flex;\n",
              "      flex-wrap:wrap;\n",
              "      gap: 12px;\n",
              "    }\n",
              "\n",
              "    .colab-df-convert {\n",
              "      background-color: #E8F0FE;\n",
              "      border: none;\n",
              "      border-radius: 50%;\n",
              "      cursor: pointer;\n",
              "      display: none;\n",
              "      fill: #1967D2;\n",
              "      height: 32px;\n",
              "      padding: 0 0 0 0;\n",
              "      width: 32px;\n",
              "    }\n",
              "\n",
              "    .colab-df-convert:hover {\n",
              "      background-color: #E2EBFA;\n",
              "      box-shadow: 0px 1px 2px rgba(60, 64, 67, 0.3), 0px 1px 3px 1px rgba(60, 64, 67, 0.15);\n",
              "      fill: #174EA6;\n",
              "    }\n",
              "\n",
              "    [theme=dark] .colab-df-convert {\n",
              "      background-color: #3B4455;\n",
              "      fill: #D2E3FC;\n",
              "    }\n",
              "\n",
              "    [theme=dark] .colab-df-convert:hover {\n",
              "      background-color: #434B5C;\n",
              "      box-shadow: 0px 1px 3px 1px rgba(0, 0, 0, 0.15);\n",
              "      filter: drop-shadow(0px 1px 2px rgba(0, 0, 0, 0.3));\n",
              "      fill: #FFFFFF;\n",
              "    }\n",
              "  </style>\n",
              "\n",
              "      <script>\n",
              "        const buttonEl =\n",
              "          document.querySelector('#df-23963c8e-656e-4431-a94e-8e054f5dfae5 button.colab-df-convert');\n",
              "        buttonEl.style.display =\n",
              "          google.colab.kernel.accessAllowed ? 'block' : 'none';\n",
              "\n",
              "        async function convertToInteractive(key) {\n",
              "          const element = document.querySelector('#df-23963c8e-656e-4431-a94e-8e054f5dfae5');\n",
              "          const dataTable =\n",
              "            await google.colab.kernel.invokeFunction('convertToInteractive',\n",
              "                                                     [key], {});\n",
              "          if (!dataTable) return;\n",
              "\n",
              "          const docLinkHtml = 'Like what you see? Visit the ' +\n",
              "            '<a target=\"_blank\" href=https://colab.research.google.com/notebooks/data_table.ipynb>data table notebook</a>'\n",
              "            + ' to learn more about interactive tables.';\n",
              "          element.innerHTML = '';\n",
              "          dataTable['output_type'] = 'display_data';\n",
              "          await google.colab.output.renderOutput(dataTable, element);\n",
              "          const docLink = document.createElement('div');\n",
              "          docLink.innerHTML = docLinkHtml;\n",
              "          element.appendChild(docLink);\n",
              "        }\n",
              "      </script>\n",
              "    </div>\n",
              "  </div>\n",
              "  "
            ]
          },
          "metadata": {},
          "execution_count": 40
        }
      ]
    },
    {
      "cell_type": "code",
      "source": [
        "df = pd.concat([df_norm, target], axis=1)\n",
        "df.sample(n=5)"
      ],
      "metadata": {
        "colab": {
          "base_uri": "https://localhost:8080/",
          "height": 206
        },
        "id": "WeXq8uFTHk1X",
        "outputId": "db111255-2048-4627-a869-4e4fb0fddf58"
      },
      "execution_count": 41,
      "outputs": [
        {
          "output_type": "execute_result",
          "data": {
            "text/plain": [
              "    sepal.length  sepal.width  petal.length  petal.width  variety\n",
              "87      0.555556     0.125000      0.576271     0.500000        1\n",
              "42      0.027778     0.500000      0.050847     0.041667        0\n",
              "59      0.250000     0.291667      0.491525     0.541667        1\n",
              "73      0.500000     0.333333      0.627119     0.458333        1\n",
              "97      0.527778     0.375000      0.559322     0.500000        1"
            ],
            "text/html": [
              "\n",
              "  <div id=\"df-e1dd3f89-4f29-4628-96c9-89d62d55ad2e\">\n",
              "    <div class=\"colab-df-container\">\n",
              "      <div>\n",
              "<style scoped>\n",
              "    .dataframe tbody tr th:only-of-type {\n",
              "        vertical-align: middle;\n",
              "    }\n",
              "\n",
              "    .dataframe tbody tr th {\n",
              "        vertical-align: top;\n",
              "    }\n",
              "\n",
              "    .dataframe thead th {\n",
              "        text-align: right;\n",
              "    }\n",
              "</style>\n",
              "<table border=\"1\" class=\"dataframe\">\n",
              "  <thead>\n",
              "    <tr style=\"text-align: right;\">\n",
              "      <th></th>\n",
              "      <th>sepal.length</th>\n",
              "      <th>sepal.width</th>\n",
              "      <th>petal.length</th>\n",
              "      <th>petal.width</th>\n",
              "      <th>variety</th>\n",
              "    </tr>\n",
              "  </thead>\n",
              "  <tbody>\n",
              "    <tr>\n",
              "      <th>87</th>\n",
              "      <td>0.555556</td>\n",
              "      <td>0.125000</td>\n",
              "      <td>0.576271</td>\n",
              "      <td>0.500000</td>\n",
              "      <td>1</td>\n",
              "    </tr>\n",
              "    <tr>\n",
              "      <th>42</th>\n",
              "      <td>0.027778</td>\n",
              "      <td>0.500000</td>\n",
              "      <td>0.050847</td>\n",
              "      <td>0.041667</td>\n",
              "      <td>0</td>\n",
              "    </tr>\n",
              "    <tr>\n",
              "      <th>59</th>\n",
              "      <td>0.250000</td>\n",
              "      <td>0.291667</td>\n",
              "      <td>0.491525</td>\n",
              "      <td>0.541667</td>\n",
              "      <td>1</td>\n",
              "    </tr>\n",
              "    <tr>\n",
              "      <th>73</th>\n",
              "      <td>0.500000</td>\n",
              "      <td>0.333333</td>\n",
              "      <td>0.627119</td>\n",
              "      <td>0.458333</td>\n",
              "      <td>1</td>\n",
              "    </tr>\n",
              "    <tr>\n",
              "      <th>97</th>\n",
              "      <td>0.527778</td>\n",
              "      <td>0.375000</td>\n",
              "      <td>0.559322</td>\n",
              "      <td>0.500000</td>\n",
              "      <td>1</td>\n",
              "    </tr>\n",
              "  </tbody>\n",
              "</table>\n",
              "</div>\n",
              "      <button class=\"colab-df-convert\" onclick=\"convertToInteractive('df-e1dd3f89-4f29-4628-96c9-89d62d55ad2e')\"\n",
              "              title=\"Convert this dataframe to an interactive table.\"\n",
              "              style=\"display:none;\">\n",
              "        \n",
              "  <svg xmlns=\"http://www.w3.org/2000/svg\" height=\"24px\"viewBox=\"0 0 24 24\"\n",
              "       width=\"24px\">\n",
              "    <path d=\"M0 0h24v24H0V0z\" fill=\"none\"/>\n",
              "    <path d=\"M18.56 5.44l.94 2.06.94-2.06 2.06-.94-2.06-.94-.94-2.06-.94 2.06-2.06.94zm-11 1L8.5 8.5l.94-2.06 2.06-.94-2.06-.94L8.5 2.5l-.94 2.06-2.06.94zm10 10l.94 2.06.94-2.06 2.06-.94-2.06-.94-.94-2.06-.94 2.06-2.06.94z\"/><path d=\"M17.41 7.96l-1.37-1.37c-.4-.4-.92-.59-1.43-.59-.52 0-1.04.2-1.43.59L10.3 9.45l-7.72 7.72c-.78.78-.78 2.05 0 2.83L4 21.41c.39.39.9.59 1.41.59.51 0 1.02-.2 1.41-.59l7.78-7.78 2.81-2.81c.8-.78.8-2.07 0-2.86zM5.41 20L4 18.59l7.72-7.72 1.47 1.35L5.41 20z\"/>\n",
              "  </svg>\n",
              "      </button>\n",
              "      \n",
              "  <style>\n",
              "    .colab-df-container {\n",
              "      display:flex;\n",
              "      flex-wrap:wrap;\n",
              "      gap: 12px;\n",
              "    }\n",
              "\n",
              "    .colab-df-convert {\n",
              "      background-color: #E8F0FE;\n",
              "      border: none;\n",
              "      border-radius: 50%;\n",
              "      cursor: pointer;\n",
              "      display: none;\n",
              "      fill: #1967D2;\n",
              "      height: 32px;\n",
              "      padding: 0 0 0 0;\n",
              "      width: 32px;\n",
              "    }\n",
              "\n",
              "    .colab-df-convert:hover {\n",
              "      background-color: #E2EBFA;\n",
              "      box-shadow: 0px 1px 2px rgba(60, 64, 67, 0.3), 0px 1px 3px 1px rgba(60, 64, 67, 0.15);\n",
              "      fill: #174EA6;\n",
              "    }\n",
              "\n",
              "    [theme=dark] .colab-df-convert {\n",
              "      background-color: #3B4455;\n",
              "      fill: #D2E3FC;\n",
              "    }\n",
              "\n",
              "    [theme=dark] .colab-df-convert:hover {\n",
              "      background-color: #434B5C;\n",
              "      box-shadow: 0px 1px 3px 1px rgba(0, 0, 0, 0.15);\n",
              "      filter: drop-shadow(0px 1px 2px rgba(0, 0, 0, 0.3));\n",
              "      fill: #FFFFFF;\n",
              "    }\n",
              "  </style>\n",
              "\n",
              "      <script>\n",
              "        const buttonEl =\n",
              "          document.querySelector('#df-e1dd3f89-4f29-4628-96c9-89d62d55ad2e button.colab-df-convert');\n",
              "        buttonEl.style.display =\n",
              "          google.colab.kernel.accessAllowed ? 'block' : 'none';\n",
              "\n",
              "        async function convertToInteractive(key) {\n",
              "          const element = document.querySelector('#df-e1dd3f89-4f29-4628-96c9-89d62d55ad2e');\n",
              "          const dataTable =\n",
              "            await google.colab.kernel.invokeFunction('convertToInteractive',\n",
              "                                                     [key], {});\n",
              "          if (!dataTable) return;\n",
              "\n",
              "          const docLinkHtml = 'Like what you see? Visit the ' +\n",
              "            '<a target=\"_blank\" href=https://colab.research.google.com/notebooks/data_table.ipynb>data table notebook</a>'\n",
              "            + ' to learn more about interactive tables.';\n",
              "          element.innerHTML = '';\n",
              "          dataTable['output_type'] = 'display_data';\n",
              "          await google.colab.output.renderOutput(dataTable, element);\n",
              "          const docLink = document.createElement('div');\n",
              "          docLink.innerHTML = docLinkHtml;\n",
              "          element.appendChild(docLink);\n",
              "        }\n",
              "      </script>\n",
              "    </div>\n",
              "  </div>\n",
              "  "
            ]
          },
          "metadata": {},
          "execution_count": 41
        }
      ]
    },
    {
      "cell_type": "code",
      "source": [
        "train,test=train_test_split(df, test_size=0.3)"
      ],
      "metadata": {
        "id": "XS4DS4htHmyx"
      },
      "execution_count": 42,
      "outputs": []
    },
    {
      "cell_type": "code",
      "source": [
        "train_X=train[['sepal.length','sepal.width','petal.length','petal.width']]\n",
        "train_y=train.variety"
      ],
      "metadata": {
        "id": "9kIQV8evHojP"
      },
      "execution_count": 43,
      "outputs": []
    },
    {
      "cell_type": "code",
      "source": [
        "test_X=test[['sepal.length','sepal.width','petal.length','petal.width']]\n",
        "test_y=test.variety"
      ],
      "metadata": {
        "id": "3aBT9FDvHqOJ"
      },
      "execution_count": 44,
      "outputs": []
    },
    {
      "cell_type": "code",
      "source": [
        "# 老師的多層感知器(MLP) => hidden_layer_sizes=(3,3)\n",
        "# 兩層，第一層3個隱藏單元，第二層隱藏3個單元\n",
        "clf=MLPClassifier(solver='lbfgs', alpha=1e-5, hidden_layer_sizes=(3,3), random_state=1)\n",
        "clf.fit(train_X, train_y)"
      ],
      "metadata": {
        "colab": {
          "base_uri": "https://localhost:8080/"
        },
        "id": "Glq_WBLuHr5j",
        "outputId": "d38ac424-71b5-4d6c-efbe-adac35fed10e"
      },
      "execution_count": 45,
      "outputs": [
        {
          "output_type": "execute_result",
          "data": {
            "text/plain": [
              "MLPClassifier(alpha=1e-05, hidden_layer_sizes=(3, 3), random_state=1,\n",
              "              solver='lbfgs')"
            ]
          },
          "metadata": {},
          "execution_count": 45
        }
      ]
    },
    {
      "cell_type": "markdown",
      "source": [
        "![2022-12-11_014730.jpg](data:image/jpeg;base64,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)"
      ],
      "metadata": {
        "id": "b3lYbs0USr2M"
      }
    },
    {
      "cell_type": "code",
      "source": [
        "prediction = clf.predict(test_X)\n",
        "print(prediction)"
      ],
      "metadata": {
        "colab": {
          "base_uri": "https://localhost:8080/"
        },
        "id": "aQlNk6rwIxDB",
        "outputId": "7224fc71-6368-46c3-8fb3-8ce49f54e1e2"
      },
      "execution_count": 46,
      "outputs": [
        {
          "output_type": "stream",
          "name": "stdout",
          "text": [
            "[2 0 0 1 2 2 2 2 2 0 2 2 1 2 2 1 2 0 1 2 1 2 0 0 1 0 0 0 0 0 0 0 2 1 1 1 1\n",
            " 0 1 1 1 1 1 2 2]\n"
          ]
        }
      ]
    },
    {
      "cell_type": "code",
      "source": [
        "print(test_y.values)"
      ],
      "metadata": {
        "colab": {
          "base_uri": "https://localhost:8080/"
        },
        "id": "XSkf8TsII05A",
        "outputId": "6bc7beb4-405b-410a-afc8-cddc34677061"
      },
      "execution_count": 47,
      "outputs": [
        {
          "output_type": "stream",
          "name": "stdout",
          "text": [
            "[2 0 0 1 2 2 2 2 2 0 2 2 1 2 2 1 2 0 1 2 1 2 0 0 1 0 0 0 0 0 0 0 2 1 1 1 1\n",
            " 0 1 1 1 2 2 2 2]\n"
          ]
        }
      ]
    },
    {
      "cell_type": "code",
      "source": [
        "print('The accuracy of the Multi-layer Perceptron is:\\033[0;32;43m',metrics.accuracy_score(prediction,test_y),'\\033[0m')"
      ],
      "metadata": {
        "colab": {
          "base_uri": "https://localhost:8080/"
        },
        "id": "_1c9I-BuI3a6",
        "outputId": "0570e70f-eaa5-4f17-f8e1-0cb0db2dd800"
      },
      "execution_count": 48,
      "outputs": [
        {
          "output_type": "stream",
          "name": "stdout",
          "text": [
            "The accuracy of the Multi-layer Perceptron is:\u001b[0;32;43m 0.9555555555555556 \u001b[0m\n"
          ]
        }
      ]
    },
    {
      "cell_type": "markdown",
      "source": [
        "<font color=blue>1）hidden_layer_sizes=(100,)：tuple，同時指定隱藏層層數+每層單元數。比如（10,20）兩層隱藏層，第一層10個隱藏單元，第二層20個隱藏單元；默認值為一層隱藏層100個隱藏單元</font>"
      ],
      "metadata": {
        "id": "CPnr1cFib2C2"
      }
    },
    {
      "cell_type": "code",
      "source": [
        "# 多層感知器(MLP) => hidden_layer_sizes=3\n",
        "# 一層，第一層3個隱藏單元\n",
        "clf1=MLPClassifier(solver='lbfgs', alpha=1e-5, hidden_layer_sizes=(3), random_state=1, tol=1e-4)\n",
        "clf1.fit(train_X, train_y)"
      ],
      "metadata": {
        "colab": {
          "base_uri": "https://localhost:8080/"
        },
        "id": "-ps-AD_HVgQs",
        "outputId": "d0f85616-7154-4144-879c-dde3ef539e1a"
      },
      "execution_count": 49,
      "outputs": [
        {
          "output_type": "execute_result",
          "data": {
            "text/plain": [
              "MLPClassifier(alpha=1e-05, hidden_layer_sizes=3, random_state=1, solver='lbfgs')"
            ]
          },
          "metadata": {},
          "execution_count": 49
        }
      ]
    },
    {
      "cell_type": "code",
      "source": [
        "prediction1 = clf1.predict(test_X)\n",
        "print(prediction1,'\\n')\n",
        "\n",
        "print(test_y.values,'\\n')\n",
        "\n",
        "print('The accuracy of the Multi-layer Perceptron is(hidden_layer_sizes=3):\\033[0;32;43m',metrics.accuracy_score(prediction1,test_y),'\\033[0m')"
      ],
      "metadata": {
        "colab": {
          "base_uri": "https://localhost:8080/"
        },
        "id": "eZ7pVHDTYGFc",
        "outputId": "3df38b1c-c11a-49bf-f79f-30c96246850e"
      },
      "execution_count": 50,
      "outputs": [
        {
          "output_type": "stream",
          "name": "stdout",
          "text": [
            "[2 0 0 1 2 2 2 2 2 0 2 2 1 2 2 1 2 0 1 2 1 2 0 0 1 0 0 0 0 0 0 0 2 1 1 1 1\n",
            " 0 1 1 1 2 1 2 2] \n",
            "\n",
            "[2 0 0 1 2 2 2 2 2 0 2 2 1 2 2 1 2 0 1 2 1 2 0 0 1 0 0 0 0 0 0 0 2 1 1 1 1\n",
            " 0 1 1 1 2 2 2 2] \n",
            "\n",
            "The accuracy of the Multi-layer Perceptron is(hidden_layer_sizes=3):\u001b[0;32;43m 0.9777777777777777 \u001b[0m\n"
          ]
        }
      ]
    },
    {
      "cell_type": "markdown",
      "source": [
        "<font color=blue>2) activation=\"relu\"：隱藏層的啟動函數，可選為{'identity', 'logistic', 'tanh', 'relu'}，分別對應：{ f(x) = x ，f(x) = 1 / (1 + exp(-x))，f(x) = tanh(x)，f(x) = max(0, x)}；預設值是'relu'</font>"
      ],
      "metadata": {
        "id": "mFsX_kQ-d1GU"
      }
    },
    {
      "cell_type": "code",
      "source": [
        "# 多層感知器(MLP)\n",
        "# 隱藏層的啟動函數用'identity'\n",
        "clf2=MLPClassifier(solver='lbfgs', alpha=1e-5, hidden_layer_sizes=(3,3), random_state=1, activation='identity', tol=1e-4)\n",
        "clf2.fit(train_X, train_y)"
      ],
      "metadata": {
        "colab": {
          "base_uri": "https://localhost:8080/"
        },
        "id": "GJ42K7bbeIYY",
        "outputId": "db510ec4-ba72-48d2-c7ee-85687bc385b3"
      },
      "execution_count": 51,
      "outputs": [
        {
          "output_type": "execute_result",
          "data": {
            "text/plain": [
              "MLPClassifier(activation='identity', alpha=1e-05, hidden_layer_sizes=(3, 3),\n",
              "              random_state=1, solver='lbfgs')"
            ]
          },
          "metadata": {},
          "execution_count": 51
        }
      ]
    },
    {
      "cell_type": "code",
      "source": [
        "prediction2 = clf2.predict(test_X)\n",
        "print(prediction2,'\\n')\n",
        "\n",
        "print(test_y.values,'\\n')\n",
        "\n",
        "print('The accuracy of the Multi-layer Perceptron is(activation=\"identity\"):\\033[0;32;43m',metrics.accuracy_score(prediction2,test_y),'\\033[0m')"
      ],
      "metadata": {
        "colab": {
          "base_uri": "https://localhost:8080/"
        },
        "id": "m9tcf3GbeJ9W",
        "outputId": "381f4aa8-12fd-45b4-f4c1-998236f3fd9a"
      },
      "execution_count": 52,
      "outputs": [
        {
          "output_type": "stream",
          "name": "stdout",
          "text": [
            "[2 0 0 1 2 2 2 2 2 0 2 2 1 2 2 1 2 0 1 2 1 2 0 0 1 0 0 0 0 0 0 0 2 1 1 1 1\n",
            " 0 1 1 1 2 1 2 2] \n",
            "\n",
            "[2 0 0 1 2 2 2 2 2 0 2 2 1 2 2 1 2 0 1 2 1 2 0 0 1 0 0 0 0 0 0 0 2 1 1 1 1\n",
            " 0 1 1 1 2 2 2 2] \n",
            "\n",
            "The accuracy of the Multi-layer Perceptron is(activation=\"identity\"):\u001b[0;32;43m 0.9777777777777777 \u001b[0m\n"
          ]
        }
      ]
    },
    {
      "cell_type": "code",
      "source": [
        "# 多層感知器(MLP)\n",
        "# 隱藏層的啟動函數用'logistic'\n",
        "clf3=MLPClassifier(solver='lbfgs', alpha=1e-5, hidden_layer_sizes=(3,3), random_state=1, activation='logistic', tol=1e-4)\n",
        "clf3.fit(train_X, train_y)"
      ],
      "metadata": {
        "colab": {
          "base_uri": "https://localhost:8080/"
        },
        "outputId": "67bb94a1-3f7a-4916-d06c-14f87a3ec807",
        "id": "vdpWfOdKfQUl"
      },
      "execution_count": 53,
      "outputs": [
        {
          "output_type": "stream",
          "name": "stderr",
          "text": [
            "/usr/local/lib/python3.8/dist-packages/sklearn/neural_network/_multilayer_perceptron.py:549: ConvergenceWarning: lbfgs failed to converge (status=1):\n",
            "STOP: TOTAL NO. of ITERATIONS REACHED LIMIT.\n",
            "\n",
            "Increase the number of iterations (max_iter) or scale the data as shown in:\n",
            "    https://scikit-learn.org/stable/modules/preprocessing.html\n",
            "  self.n_iter_ = _check_optimize_result(\"lbfgs\", opt_res, self.max_iter)\n"
          ]
        },
        {
          "output_type": "execute_result",
          "data": {
            "text/plain": [
              "MLPClassifier(activation='logistic', alpha=1e-05, hidden_layer_sizes=(3, 3),\n",
              "              random_state=1, solver='lbfgs')"
            ]
          },
          "metadata": {},
          "execution_count": 53
        }
      ]
    },
    {
      "cell_type": "code",
      "source": [
        "prediction3 = clf3.predict(test_X)\n",
        "print(prediction3,'\\n')\n",
        "\n",
        "print(test_y.values,'\\n')\n",
        "\n",
        "print('The accuracy of the Multi-layer Perceptron is(activation=\"logistic\"):\\033[0;32;43m',metrics.accuracy_score(prediction3,test_y),'\\033[0m')"
      ],
      "metadata": {
        "colab": {
          "base_uri": "https://localhost:8080/"
        },
        "outputId": "37d4e9b7-fd75-4d81-a1b4-871d757961fe",
        "id": "grq8Q3nifR7R"
      },
      "execution_count": 54,
      "outputs": [
        {
          "output_type": "stream",
          "name": "stdout",
          "text": [
            "[2 0 0 1 2 2 2 2 1 0 2 1 1 2 2 1 2 0 1 2 1 2 0 0 1 0 0 0 0 0 0 0 2 1 1 1 1\n",
            " 0 1 1 1 1 1 2 2] \n",
            "\n",
            "[2 0 0 1 2 2 2 2 2 0 2 2 1 2 2 1 2 0 1 2 1 2 0 0 1 0 0 0 0 0 0 0 2 1 1 1 1\n",
            " 0 1 1 1 2 2 2 2] \n",
            "\n",
            "The accuracy of the Multi-layer Perceptron is(activation=\"logistic\"):\u001b[0;32;43m 0.9111111111111111 \u001b[0m\n"
          ]
        }
      ]
    },
    {
      "cell_type": "code",
      "source": [
        "# 多層感知器(MLP) => hidden_layer_sizes=3\n",
        "# 隱藏層的啟動函數用'tanh'\n",
        "clf4=MLPClassifier(solver='lbfgs', alpha=1e-5, hidden_layer_sizes=(3,3), random_state=1, activation='tanh', tol=1e-4)\n",
        "clf4.fit(train_X, train_y)"
      ],
      "metadata": {
        "colab": {
          "base_uri": "https://localhost:8080/"
        },
        "outputId": "4580b5c3-2b86-41a6-ba9b-108fad48fd0c",
        "id": "oOFgndoremVL"
      },
      "execution_count": 55,
      "outputs": [
        {
          "output_type": "stream",
          "name": "stderr",
          "text": [
            "/usr/local/lib/python3.8/dist-packages/sklearn/neural_network/_multilayer_perceptron.py:549: ConvergenceWarning: lbfgs failed to converge (status=1):\n",
            "STOP: TOTAL NO. of ITERATIONS REACHED LIMIT.\n",
            "\n",
            "Increase the number of iterations (max_iter) or scale the data as shown in:\n",
            "    https://scikit-learn.org/stable/modules/preprocessing.html\n",
            "  self.n_iter_ = _check_optimize_result(\"lbfgs\", opt_res, self.max_iter)\n"
          ]
        },
        {
          "output_type": "execute_result",
          "data": {
            "text/plain": [
              "MLPClassifier(activation='tanh', alpha=1e-05, hidden_layer_sizes=(3, 3),\n",
              "              random_state=1, solver='lbfgs')"
            ]
          },
          "metadata": {},
          "execution_count": 55
        }
      ]
    },
    {
      "cell_type": "code",
      "source": [
        "prediction4 = clf4.predict(test_X)\n",
        "print(prediction4,'\\n')\n",
        "\n",
        "print(test_y.values,'\\n')\n",
        "\n",
        "print('The accuracy of the Multi-layer Perceptron is(activation=\"tanh\"):\\033[0;32;43m',metrics.accuracy_score(prediction4,test_y),'\\033[0m')"
      ],
      "metadata": {
        "colab": {
          "base_uri": "https://localhost:8080/"
        },
        "outputId": "126ddcfa-5ce9-49af-ca7c-167c31a67d5b",
        "id": "bK_uA_yPejM7"
      },
      "execution_count": 56,
      "outputs": [
        {
          "output_type": "stream",
          "name": "stdout",
          "text": [
            "[2 0 0 1 2 2 2 2 2 0 2 2 1 2 2 1 2 0 1 2 1 2 0 0 1 0 0 0 0 0 0 0 2 1 1 1 1\n",
            " 0 1 1 1 1 1 2 2] \n",
            "\n",
            "[2 0 0 1 2 2 2 2 2 0 2 2 1 2 2 1 2 0 1 2 1 2 0 0 1 0 0 0 0 0 0 0 2 1 1 1 1\n",
            " 0 1 1 1 2 2 2 2] \n",
            "\n",
            "The accuracy of the Multi-layer Perceptron is(activation=\"tanh\"):\u001b[0;32;43m 0.9555555555555556 \u001b[0m\n"
          ]
        }
      ]
    },
    {
      "cell_type": "markdown",
      "source": [
        "<font color=blue>3) solver='adam'：參數的優化演算法，可選為{'lbfgs', 'sgd', 'adam'}，分別對應{擬牛頓法，隨機梯度下降，基於隨機梯度下降的自我調整}的具體實現演算法</font>"
      ],
      "metadata": {
        "id": "0tTGgf49gR6Z"
      }
    },
    {
      "cell_type": "code",
      "source": [
        "# 多層感知器(MLP) \n",
        "# 參數的優化演算法用solver='sgd'\n",
        "# 參數更新時的學習率，在solver='sgd'時有效，選用{'constant'}，常數即=初始學習率\n",
        "# 初始學習率learning_rate_init設0.001\n",
        "\n",
        "\n",
        "clf5=MLPClassifier(solver='sgd', alpha=1e-5, hidden_layer_sizes=(3,3), random_state=1, learning_rate=\"constant\",learning_rate_init=0.001, tol=1e-4)\n",
        "clf5.fit(train_X, train_y)"
      ],
      "metadata": {
        "colab": {
          "base_uri": "https://localhost:8080/"
        },
        "outputId": "59dee2fe-ab5f-4ab7-e8c3-d29a47dbd61f",
        "id": "Wh6KCS6MrGOz"
      },
      "execution_count": 57,
      "outputs": [
        {
          "output_type": "stream",
          "name": "stderr",
          "text": [
            "/usr/local/lib/python3.8/dist-packages/sklearn/neural_network/_multilayer_perceptron.py:692: ConvergenceWarning: Stochastic Optimizer: Maximum iterations (200) reached and the optimization hasn't converged yet.\n",
            "  warnings.warn(\n"
          ]
        },
        {
          "output_type": "execute_result",
          "data": {
            "text/plain": [
              "MLPClassifier(alpha=1e-05, hidden_layer_sizes=(3, 3), random_state=1,\n",
              "              solver='sgd')"
            ]
          },
          "metadata": {},
          "execution_count": 57
        }
      ]
    },
    {
      "cell_type": "code",
      "source": [
        "prediction5 = clf5.predict(test_X)\n",
        "print(prediction5,'\\n')\n",
        "\n",
        "print(test_y.values,'\\n')\n",
        "\n",
        "print('The accuracy of the Multi-layer Perceptron is(solver=\"sgd\",max_iter=200):\\033[0;32;43m',metrics.accuracy_score(prediction5,test_y),'\\033[0m')"
      ],
      "metadata": {
        "colab": {
          "base_uri": "https://localhost:8080/"
        },
        "outputId": "38a74088-8463-440e-a317-ee6316a47aaa",
        "id": "0CI9qQzerU1O"
      },
      "execution_count": 58,
      "outputs": [
        {
          "output_type": "stream",
          "name": "stdout",
          "text": [
            "[2 1 1 2 2 2 2 2 2 1 2 2 1 2 1 1 2 1 1 2 1 2 1 1 1 1 1 1 1 1 1 1 2 2 2 1 1\n",
            " 1 1 1 1 2 2 2 2] \n",
            "\n",
            "[2 0 0 1 2 2 2 2 2 0 2 2 1 2 2 1 2 0 1 2 1 2 0 0 1 0 0 0 0 0 0 0 2 1 1 1 1\n",
            " 0 1 1 1 2 2 2 2] \n",
            "\n",
            "The accuracy of the Multi-layer Perceptron is(solver=\"sgd\",max_iter=200):\u001b[0;32;43m 0.6 \u001b[0m\n"
          ]
        }
      ]
    },
    {
      "cell_type": "code",
      "source": [
        "# 多層感知器(MLP) \n",
        "# 參數的優化演算法用solver='sgd'\n",
        "# 參數更新時的學習率，在solver='sgd'時有效，選用{'constant'}，常數即=初始學習率\n",
        "# 初始學習率learning_rate_init設0.001\n",
        "# 最大迭代數設max_iter為10000   => 迭代數如果太少，MLP沒有收斂準確度會差  => 會出警告\n",
        "\n",
        "clf6=MLPClassifier(solver='sgd', alpha=1e-5, hidden_layer_sizes=(3,3), random_state=1, learning_rate=\"constant\",learning_rate_init=0.001,max_iter=10000,tol=1e-4)\n",
        "clf6.fit(train_X, train_y)"
      ],
      "metadata": {
        "colab": {
          "base_uri": "https://localhost:8080/"
        },
        "outputId": "14883a51-bf29-4a00-bc19-4c98fe4eeb5b",
        "id": "Pdd0ran_jekq"
      },
      "execution_count": 59,
      "outputs": [
        {
          "output_type": "execute_result",
          "data": {
            "text/plain": [
              "MLPClassifier(alpha=1e-05, hidden_layer_sizes=(3, 3), max_iter=10000,\n",
              "              random_state=1, solver='sgd')"
            ]
          },
          "metadata": {},
          "execution_count": 59
        }
      ]
    },
    {
      "cell_type": "code",
      "source": [
        "prediction6 = clf6.predict(test_X)\n",
        "print(prediction6,'\\n')\n",
        "\n",
        "print(test_y.values,'\\n')\n",
        "\n",
        "print('The accuracy of the Multi-layer Perceptron is(solver=\"sgd\",max_iter=10000):\\033[0;32;43m',metrics.accuracy_score(prediction6,test_y),'\\033[0m')"
      ],
      "metadata": {
        "colab": {
          "base_uri": "https://localhost:8080/"
        },
        "outputId": "373ebcad-b002-4d0c-9f48-ea95cdd7a3c6",
        "id": "GBaVBHWmjttU"
      },
      "execution_count": 60,
      "outputs": [
        {
          "output_type": "stream",
          "name": "stdout",
          "text": [
            "[2 0 0 1 2 2 2 2 2 0 2 2 1 2 2 1 2 0 1 2 1 2 0 0 1 0 0 0 0 0 0 0 2 1 1 1 1\n",
            " 0 1 1 1 2 2 2 2] \n",
            "\n",
            "[2 0 0 1 2 2 2 2 2 0 2 2 1 2 2 1 2 0 1 2 1 2 0 0 1 0 0 0 0 0 0 0 2 1 1 1 1\n",
            " 0 1 1 1 2 2 2 2] \n",
            "\n",
            "The accuracy of the Multi-layer Perceptron is(solver=\"sgd\",max_iter=10000):\u001b[0;32;43m 1.0 \u001b[0m\n"
          ]
        }
      ]
    },
    {
      "cell_type": "code",
      "source": [
        "# 多層感知器(MLP) \n",
        "# 參數的優化演算法用solver='sgd'\n",
        "# 參數更新時的學習率，在solver='sgd'時有效，選用{'invscaling'}，逐漸降低\n",
        "# 初始學習率learning_rate_init設0.001\n",
        "# 最大迭代數設max_iter為10000   => 迭代數如果太少，MLP沒有收斂準確度會差  => 會出警告\n",
        "\n",
        "clf7=MLPClassifier(solver='sgd', alpha=1e-5, hidden_layer_sizes=(3,3), random_state=1, learning_rate=\"invscaling\",learning_rate_init=0.001,max_iter=10000,tol=1e-4)\n",
        "clf7.fit(train_X, train_y)"
      ],
      "metadata": {
        "id": "wejkJxKgsmv5",
        "colab": {
          "base_uri": "https://localhost:8080/"
        },
        "outputId": "571d0a23-b2c6-4eff-aa28-d4f4a550f9a2"
      },
      "execution_count": 61,
      "outputs": [
        {
          "output_type": "execute_result",
          "data": {
            "text/plain": [
              "MLPClassifier(alpha=1e-05, hidden_layer_sizes=(3, 3),\n",
              "              learning_rate='invscaling', max_iter=10000, random_state=1,\n",
              "              solver='sgd')"
            ]
          },
          "metadata": {},
          "execution_count": 61
        }
      ]
    },
    {
      "cell_type": "code",
      "source": [
        "prediction7 = clf7.predict(test_X)\n",
        "print(prediction7,'\\n')\n",
        "\n",
        "print(test_y.values,'\\n')\n",
        "\n",
        "print('The accuracy of the Multi-layer Perceptron is(solver=\"sgd\",max_iter=10000):\\033[0;32;43m',metrics.accuracy_score(prediction7,test_y),'\\033[0m')"
      ],
      "metadata": {
        "id": "TrPdTZyNssEV",
        "colab": {
          "base_uri": "https://localhost:8080/"
        },
        "outputId": "12805e00-13f3-4f15-d7ea-d1a92184d44c"
      },
      "execution_count": 62,
      "outputs": [
        {
          "output_type": "stream",
          "name": "stdout",
          "text": [
            "[1 1 1 1 1 1 1 1 1 1 1 1 1 1 1 1 1 1 1 1 1 1 1 1 1 1 1 1 1 1 1 1 1 1 1 1 1\n",
            " 1 1 1 1 1 1 1 1] \n",
            "\n",
            "[2 0 0 1 2 2 2 2 2 0 2 2 1 2 2 1 2 0 1 2 1 2 0 0 1 0 0 0 0 0 0 0 2 1 1 1 1\n",
            " 0 1 1 1 2 2 2 2] \n",
            "\n",
            "The accuracy of the Multi-layer Perceptron is(solver=\"sgd\",max_iter=10000):\u001b[0;32;43m 0.28888888888888886 \u001b[0m\n"
          ]
        }
      ]
    },
    {
      "cell_type": "code",
      "source": [
        "# 多層感知器(MLP)\n",
        "# 參數的優化演算法用solver='adam'\n",
        "# 最大迭代數設max_iter為2500   => 迭代數如果太少，MLP沒有收斂準確度會差  => 會出警告\n",
        "clf9=MLPClassifier(solver='adam', alpha=1e-5, hidden_layer_sizes=(3,3), random_state=1,max_iter=2500,tol=1e-4)\n",
        "clf9.fit(train_X, train_y)"
      ],
      "metadata": {
        "colab": {
          "base_uri": "https://localhost:8080/"
        },
        "outputId": "a7103623-9768-4a80-d77b-fa6cfb8d8fd1",
        "id": "MIn_gmsHjecf"
      },
      "execution_count": 63,
      "outputs": [
        {
          "output_type": "execute_result",
          "data": {
            "text/plain": [
              "MLPClassifier(alpha=1e-05, hidden_layer_sizes=(3, 3), max_iter=2500,\n",
              "              random_state=1)"
            ]
          },
          "metadata": {},
          "execution_count": 63
        }
      ]
    },
    {
      "cell_type": "code",
      "source": [
        "prediction9 = clf9.predict(test_X)\n",
        "print(prediction6,'\\n')\n",
        "\n",
        "print(test_y.values,'\\n')\n",
        "\n",
        "print('The accuracy of the Multi-layer Perceptron is(solver=\"adam\",max_iter=2500):\\033[0;32;43m',metrics.accuracy_score(prediction9,test_y),'\\033[0m')"
      ],
      "metadata": {
        "colab": {
          "base_uri": "https://localhost:8080/"
        },
        "outputId": "cd808f3a-48f8-409e-fea8-930fd9840325",
        "id": "fPag2GQjjthp"
      },
      "execution_count": 64,
      "outputs": [
        {
          "output_type": "stream",
          "name": "stdout",
          "text": [
            "[2 0 0 1 2 2 2 2 2 0 2 2 1 2 2 1 2 0 1 2 1 2 0 0 1 0 0 0 0 0 0 0 2 1 1 1 1\n",
            " 0 1 1 1 2 2 2 2] \n",
            "\n",
            "[2 0 0 1 2 2 2 2 2 0 2 2 1 2 2 1 2 0 1 2 1 2 0 0 1 0 0 0 0 0 0 0 2 1 1 1 1\n",
            " 0 1 1 1 2 2 2 2] \n",
            "\n",
            "The accuracy of the Multi-layer Perceptron is(solver=\"adam\",max_iter=2500):\u001b[0;32;43m 1.0 \u001b[0m\n"
          ]
        }
      ]
    },
    {
      "cell_type": "code",
      "source": [],
      "metadata": {
        "id": "3kVR6YN3kqLM"
      },
      "execution_count": 64,
      "outputs": []
    }
  ]
}